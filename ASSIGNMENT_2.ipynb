{
  "nbformat": 4,
  "nbformat_minor": 0,
  "metadata": {
    "colab": {
      "name": "ASSIGNMENT 2.ipynb",
      "provenance": [],
      "collapsed_sections": [],
      "authorship_tag": "ABX9TyP9zb3iAsDHrlI4irGMnKkO",
      "include_colab_link": true
    },
    "kernelspec": {
      "name": "python3",
      "display_name": "Python 3"
    }
  },
  "cells": [
    {
      "cell_type": "markdown",
      "metadata": {
        "id": "view-in-github",
        "colab_type": "text"
      },
      "source": [
        "<a href=\"https://colab.research.google.com/github/alugunuri-harish/assignment-2/blob/master/ASSIGNMENT_2.ipynb\" target=\"_parent\"><img src=\"https://colab.research.google.com/assets/colab-badge.svg\" alt=\"Open In Colab\"/></a>"
      ]
    },
    {
      "cell_type": "code",
      "metadata": {
        "id": "QLB8g2xbW-s7",
        "colab_type": "code",
        "colab": {
          "base_uri": "https://localhost:8080/",
          "height": 85
        },
        "outputId": "08b00cce-85f3-4cc0-f60e-57584762df00"
      },
      "source": [
        "#1\n",
        "a = float(input(\"Enter First side:\"))\n",
        "b = float(input(\"Enter Second side:\"))\n",
        "c = float(input(\"Enter Third side:\"))\n",
        "s = (a+b+c)/2\n",
        "area = (s*(s-a)*(s-b)*(s-c))**0.5\n",
        "print(\"Area of Triangle=\",area)"
      ],
      "execution_count": 12,
      "outputs": [
        {
          "output_type": "stream",
          "text": [
            "Enter First side:1\n",
            "Enter Second side:2\n",
            "Enter Third side:4\n",
            "Area of Triangle= (1.5686119320691177e-16+2.5617376914898995j)\n"
          ],
          "name": "stdout"
        }
      ]
    },
    {
      "cell_type": "code",
      "metadata": {
        "id": "Oqk4aSHMXFlj",
        "colab_type": "code",
        "colab": {
          "base_uri": "https://localhost:8080/",
          "height": 51
        },
        "outputId": "d79e25ec-312f-40aa-d6ef-87f64d9d4ce9"
      },
      "source": [
        "#2\n",
        "s=input(\"Enter a string:\")\n",
        "if(s==s[::-1]):\n",
        "    print(\"Given string {} is palindrome\".format(s))\n",
        "else:\n",
        "    print(\"Given string {} is not palindrome\".format(s))"
      ],
      "execution_count": 14,
      "outputs": [
        {
          "output_type": "stream",
          "text": [
            "Enter a string:rocky\n",
            "Given string rocky is not palindrome\n"
          ],
          "name": "stdout"
        }
      ]
    },
    {
      "cell_type": "code",
      "metadata": {
        "id": "AwrJVIBWXyh8",
        "colab_type": "code",
        "colab": {
          "base_uri": "https://localhost:8080/",
          "height": 51
        },
        "outputId": "5f29660b-0352-4b90-d26a-f642dd10016f"
      },
      "source": [
        "#3\n",
        "year=int(input(\"Enter the year:\"))\n",
        "if(year%4==0 and year%100!=0 or year%400==0):\n",
        "    print(\"{} The entered year is leap year\".format(year))\n",
        "else:\n",
        "    print(\"{} The entered year is not a leap year\".format(year))"
      ],
      "execution_count": 15,
      "outputs": [
        {
          "output_type": "stream",
          "text": [
            "Enter the year:364544\n",
            "364544 The entered year is leap year\n"
          ],
          "name": "stdout"
        }
      ]
    },
    {
      "cell_type": "code",
      "metadata": {
        "id": "-cB1znVIYKLE",
        "colab_type": "code",
        "colab": {
          "base_uri": "https://localhost:8080/",
          "height": 51
        },
        "outputId": "b8901cb6-127c-42cc-8dc8-17fc6a92974d"
      },
      "source": [
        "#4\n",
        "n=input(\"Enter a string : \")\n",
        "print(n.replace(' ','-'))"
      ],
      "execution_count": 16,
      "outputs": [
        {
          "output_type": "stream",
          "text": [
            "Enter a string : \"This program converts spaces into hyphen\"\n",
            "\"This-program-converts-spaces-into-hyphen\"\n"
          ],
          "name": "stdout"
        }
      ]
    },
    {
      "cell_type": "code",
      "metadata": {
        "id": "p_0XiigYYbUE",
        "colab_type": "code",
        "colab": {
          "base_uri": "https://localhost:8080/",
          "height": 51
        },
        "outputId": "eb337336-4de9-4e74-ac98-ba0aa46546dc"
      },
      "source": [
        "#5\n",
        "Input = input(\"Enter the words:\").split(\",\")\n",
        "words = list(set(Input))\n",
        "words.sort()\n",
        "print(\"Unique words in sorted form:\",str(words))"
      ],
      "execution_count": 17,
      "outputs": [
        {
          "output_type": "stream",
          "text": [
            "Enter the words:orange,white,red,cyan,green,magenta,cyan,pink,white\n",
            "Unique words in sorted form: ['cyan', 'green', 'magenta', 'orange', 'pink', 'red', 'white']\n"
          ],
          "name": "stdout"
        }
      ]
    },
    {
      "cell_type": "code",
      "metadata": {
        "id": "lsnFd7_5YpxM",
        "colab_type": "code",
        "colab": {
          "base_uri": "https://localhost:8080/",
          "height": 51
        },
        "outputId": "e3783c87-8a86-4fc9-c96f-b9e0f6ac5cf3"
      },
      "source": [
        "#6\n",
        "salary=int(input(\"Enter the salary : \"))\n",
        "if (salary>=0) and (salary<=250000):\n",
        "    tax=(salary*0)\n",
        "elif (salary>250000) and (salary<=500000):\n",
        "    tax=(salary*0.05)\n",
        "elif (salary>500000) and (salary<=750000):\n",
        "    tax=(salary*0.1)\n",
        "elif (salary>750000) and (salary<=1000000):\n",
        "    tax=(salary*0.15)\n",
        "elif (salary>1000000) and (salary<=1250000):\n",
        "    tax=(salary*0.2)\n",
        "elif (salary>1250000) and (salary<=1500000):\n",
        "    tax=(salary*0.25)\n",
        "else:\n",
        "    tax=(salary*0.3)\n",
        "print(\"Tax is : \",tax)"
      ],
      "execution_count": 18,
      "outputs": [
        {
          "output_type": "stream",
          "text": [
            "Enter the salary : 96000\n",
            "Tax is :  0\n"
          ],
          "name": "stdout"
        }
      ]
    },
    {
      "cell_type": "code",
      "metadata": {
        "id": "ovGJOexOZHH8",
        "colab_type": "code",
        "colab": {
          "base_uri": "https://localhost:8080/",
          "height": 34
        },
        "outputId": "cbe786d0-7f51-475b-f066-4a6b76928e3d"
      },
      "source": [
        "#7\n",
        "l=[11,33,50]\n",
        "for i in l:\n",
        "  print(i,end=\"\")\n"
      ],
      "execution_count": 19,
      "outputs": [
        {
          "output_type": "stream",
          "text": [
            "113350"
          ],
          "name": "stdout"
        }
      ]
    },
    {
      "cell_type": "code",
      "metadata": {
        "id": "1SifuVGeZtKb",
        "colab_type": "code",
        "colab": {
          "base_uri": "https://localhost:8080/",
          "height": 102
        },
        "outputId": "c54d9e3e-88e9-47b0-9f87-1ee968b361e9"
      },
      "source": [
        "#8\n",
        "seconds_per_minute = 60\n",
        "seconds_per_hour = 3600\n",
        "seconds_per_day = 86400\n",
        "days = int(input(\"Enter no. of days\"))\n",
        "hours = int(input(\"Enter no. of hours\"))\n",
        "minutes = int(input(\"Enter no. of minutes\"))\n",
        "seconds = int(input(\"Enter no. of seconds\"))\n",
        "total_seconds = days*seconds_per_day\n",
        "total_seconds = total_seconds+(hours*seconds_per_hour)\n",
        "total_seconds = total_seconds+(minutes*seconds_per_minute)\n",
        "total_seconds = total_seconds+seconds\n",
        "print(\"Total seconds =\",total_seconds)"
      ],
      "execution_count": 21,
      "outputs": [
        {
          "output_type": "stream",
          "text": [
            "Enter no. of days365\n",
            "Enter no. of hours24\n",
            "Enter no. of minutes60\n",
            "Enter no. of seconds60\n",
            "Total seconds = 31626060\n"
          ],
          "name": "stdout"
        }
      ]
    },
    {
      "cell_type": "code",
      "metadata": {
        "id": "RcdciQZLaFDj",
        "colab_type": "code",
        "colab": {
          "base_uri": "https://localhost:8080/",
          "height": 85
        },
        "outputId": "e484c3d1-7f02-4a6b-f2a4-394226a7844a"
      },
      "source": [
        "#9\n",
        "a=int(input(\"Enter the number of a:\"))\n",
        "b=int(input(\"Enter the number of b:\"))\n",
        "c=int(input(\"Enter the number of c:\"))\n",
        "d=min(a,b,c)\n",
        "e=max(a,b,c)\n",
        "f=(a+b+c)-d-e\n",
        "print(\"The Sorted order is:\",d,f,e)"
      ],
      "execution_count": 22,
      "outputs": [
        {
          "output_type": "stream",
          "text": [
            "Enter the number of a:55\n",
            "Enter the number of b:2\n",
            "Enter the number of c:262626\n",
            "The Sorted order is: 2 55 262626\n"
          ],
          "name": "stdout"
        }
      ]
    },
    {
      "cell_type": "code",
      "metadata": {
        "id": "6RBjgBehaez7",
        "colab_type": "code",
        "colab": {
          "base_uri": "https://localhost:8080/",
          "height": 85
        },
        "outputId": "79a4555e-a5f8-475b-a59e-33a6b19c920d"
      },
      "source": [
        "#10\n",
        "year=int(input(\"Enter a year : \"))\n",
        "if year%400== 0:\n",
        "    leapyear=True\n",
        "elif year%100==0:\n",
        "    leapyear=False\n",
        "elif year%4==0:\n",
        "    leapyear=True\n",
        "else:\n",
        "    leapyear=False\n",
        "month=int(input(\"Enter a month between 1 to 12 : \"))\n",
        "if month in (1, 3, 5, 7, 8, 10, 12):\n",
        "    monthlength=31\n",
        "elif month==2:\n",
        "    if leapyear:\n",
        "        monthlength=29\n",
        "    else:\n",
        "        monthlength=28\n",
        "else:\n",
        "    monthlength=30\n",
        "day=int(input(\"Enter a day between 1 to 31 : \"))\n",
        "if day<monthlength:\n",
        "    day+=1\n",
        "else:\n",
        "    day=1\n",
        "    if month==12:\n",
        "        month=1\n",
        "        year+=1\n",
        "    else:\n",
        "        month+=1\n",
        "print(\"The immediate successor is YYYY-MM-DD : %d-%d-%d.\" %(year,month,day))"
      ],
      "execution_count": 23,
      "outputs": [
        {
          "output_type": "stream",
          "text": [
            "Enter a year : 2020\n",
            "Enter a month between 1 to 12 : 4\n",
            "Enter a day between 1 to 31 : 15\n",
            "The immediate successor is YYYY-MM-DD : 2020-4-16.\n"
          ],
          "name": "stdout"
        }
      ]
    },
    {
      "cell_type": "code",
      "metadata": {
        "id": "eG-FLy1Ba64V",
        "colab_type": "code",
        "colab": {
          "base_uri": "https://localhost:8080/",
          "height": 34
        },
        "outputId": "11350c19-ef71-450c-d9ce-5bfbcead3f96"
      },
      "source": [
        "#11\n",
        "list=[45,3,2,89,72,1,10,7]\n",
        "n=1\n",
        "for i in range(len(list)):\n",
        "    n=n*list[i]\n",
        "print(n)"
      ],
      "execution_count": 24,
      "outputs": [
        {
          "output_type": "stream",
          "text": [
            "121111200\n"
          ],
          "name": "stdout"
        }
      ]
    },
    {
      "cell_type": "code",
      "metadata": {
        "id": "2n0C1RyfbTSL",
        "colab_type": "code",
        "colab": {
          "base_uri": "https://localhost:8080/",
          "height": 34
        },
        "outputId": "9890eb54-d25b-4927-f945-2c5f01dde72b"
      },
      "source": [
        "#12\n",
        "l=[5,6,8,34,89,1]\n",
        "Out_list=[]\n",
        "for i in range(len(l)-1):\n",
        "    ol=l[i]+l[i+1]\n",
        "    Out_list.append(ol)\n",
        "print(\"Out_list=\",Out_list)"
      ],
      "execution_count": 25,
      "outputs": [
        {
          "output_type": "stream",
          "text": [
            "Out_list= [11, 14, 42, 123, 90]\n"
          ],
          "name": "stdout"
        }
      ]
    },
    {
      "cell_type": "code",
      "metadata": {
        "id": "vCC2URAfbb10",
        "colab_type": "code",
        "colab": {
          "base_uri": "https://localhost:8080/",
          "height": 34
        },
        "outputId": "3ffacba2-7b52-4a01-8bfa-201c1d2cdc76"
      },
      "source": [
        "#13\n",
        "Num_tuple = (5,6,8,3,9,1)\n",
        "l = []\n",
        "m = 1\n",
        "for i in range(len(Num_tuple)):\n",
        "    m = m*Num_tuple[i]\n",
        "    l.append(m)\n",
        "print(l)"
      ],
      "execution_count": 26,
      "outputs": [
        {
          "output_type": "stream",
          "text": [
            "[5, 30, 240, 720, 6480, 6480]\n"
          ],
          "name": "stdout"
        }
      ]
    },
    {
      "cell_type": "code",
      "metadata": {
        "id": "ErzPrxo2bjyk",
        "colab_type": "code",
        "colab": {
          "base_uri": "https://localhost:8080/",
          "height": 51
        },
        "outputId": "4e8d6755-c7ef-466f-96aa-c11962c2e855"
      },
      "source": [
        "#14\n",
        "number=input(\"Enter a number: \")\n",
        "list=[]\n",
        "for n in range(len(number)):\n",
        "    list.append(number[n])\n",
        "print(list)"
      ],
      "execution_count": 27,
      "outputs": [
        {
          "output_type": "stream",
          "text": [
            "Enter a number: 586932\n",
            "['5', '8', '6', '9', '3', '2']\n"
          ],
          "name": "stdout"
        }
      ]
    },
    {
      "cell_type": "code",
      "metadata": {
        "id": "q1XUFSKJby4D",
        "colab_type": "code",
        "colab": {
          "base_uri": "https://localhost:8080/",
          "height": 51
        },
        "outputId": "1366f459-1aba-4c0b-fd56-cb1d1aac58ff"
      },
      "source": [
        "#15\n",
        "def longestpalindrome(n):\n",
        "    d=[[False for i in range(len(n))] for i in range(len(n))]\n",
        "    for i in range(len(n)):\n",
        "        d[i][i]=True\n",
        "    maxlen=1\n",
        "    start=0\n",
        "    for j in range(2,len(n)+1):\n",
        "        for i in range(len(n)-j+1):\n",
        "            end=i+j\n",
        "            if j==2:\n",
        "                if n[i]==n[end-1]:\n",
        "                    d[i][end-1]=True\n",
        "                    maxlen=j\n",
        "                    start=i\n",
        "            else:\n",
        "                if n[i]==n[end-1] and d[i+1][end-2]:\n",
        "                    d[i][end-1]=True\n",
        "                    maxlen=j\n",
        "                    start=i\n",
        "    return n[start:start+maxlen]\n",
        "n=input(\"Enter a string : \")\n",
        "print(longestpalindrome(n))"
      ],
      "execution_count": 28,
      "outputs": [
        {
          "output_type": "stream",
          "text": [
            "Enter a string : alluarjun\n",
            "ll\n"
          ],
          "name": "stdout"
        }
      ]
    },
    {
      "cell_type": "code",
      "metadata": {
        "id": "OzMl1nGacrVM",
        "colab_type": "code",
        "colab": {}
      },
      "source": [
        "#6\n",
        "def check(A, B): \n",
        "    if (A.find(B) == -1): \n",
        "        print(\"Output=0\") \n",
        "    else: \n",
        "        print(\"Output=1\")"
      ],
      "execution_count": 34,
      "outputs": []
    },
    {
      "cell_type": "code",
      "metadata": {
        "id": "nAtcn8cyc_OO",
        "colab_type": "code",
        "colab": {
          "base_uri": "https://localhost:8080/",
          "height": 68
        },
        "outputId": "3b46d449-358d-48a2-c0d4-c179c862dc3e"
      },
      "source": [
        "A = input(\"Enter a binary string of length 10:\")\n",
        "B =input(\"Enter a binary string of length 5:\")\n",
        "check(A, B)"
      ],
      "execution_count": 35,
      "outputs": [
        {
          "output_type": "stream",
          "text": [
            "Enter a binary string of length 10:10:1010110010\n",
            "Enter a binary string of length 5:5:10110\n",
            "Output=0\n"
          ],
          "name": "stdout"
        }
      ]
    },
    {
      "cell_type": "code",
      "metadata": {
        "id": "xG2TOv1QdHwS",
        "colab_type": "code",
        "colab": {}
      },
      "source": [
        "def check(A, B): \n",
        "    if (A.find(B) == -1): \n",
        "        print(\"Output=0\") \n",
        "    else: \n",
        "        print(\"Output=1\")"
      ],
      "execution_count": 36,
      "outputs": []
    },
    {
      "cell_type": "code",
      "metadata": {
        "id": "15adzyEydO41",
        "colab_type": "code",
        "colab": {
          "base_uri": "https://localhost:8080/",
          "height": 68
        },
        "outputId": "db253d08-0892-45ce-973b-8e690d176af4"
      },
      "source": [
        "A = input(\"Enter a binary string of length 10:\")\n",
        "B =input(\"Enter a binary string of length 5:\")\n",
        "check(A, B)"
      ],
      "execution_count": 37,
      "outputs": [
        {
          "output_type": "stream",
          "text": [
            "Enter a binary string of length 10:10:1110111011\n",
            "Enter a binary string of length 5:5:10011\n",
            "Output=0\n"
          ],
          "name": "stdout"
        }
      ]
    },
    {
      "cell_type": "code",
      "metadata": {
        "id": "hRKw4k2xdZcN",
        "colab_type": "code",
        "colab": {
          "base_uri": "https://localhost:8080/",
          "height": 102
        },
        "outputId": "3a9c42a6-bb3f-4c30-edd3-957a96d7ac13"
      },
      "source": [
        "#17\n",
        "t=int(input(\"number of test case\"))\n",
        "for i in range(t):\n",
        "  a,b,c=map(int,input(\"enter a b c\").split())\n",
        "  if a>b:\n",
        "    d=a-b\n",
        "  elif a<b:\n",
        "    d=b-a\n",
        "  if c==a or c==b:\n",
        "    print(\"1\")\n",
        "  elif d==c:\n",
        "    print(\"2\")\n",
        "  else:\n",
        "    print(\"-1\")"
      ],
      "execution_count": 38,
      "outputs": [
        {
          "output_type": "stream",
          "text": [
            "number of test case2\n",
            "enter a b c5 3 2\n",
            "2\n",
            "enter a b c1 5 3\n",
            "-1\n"
          ],
          "name": "stdout"
        }
      ]
    }
  ]
}